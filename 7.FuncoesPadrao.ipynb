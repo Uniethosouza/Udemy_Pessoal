{
 "cells": [
  {
   "cell_type": "markdown",
   "metadata": {},
   "source": [
    "# Formação Cientista de Dados - Prof. Fernando Amaral\n",
    "Funções Padrão"
   ]
  },
  {
   "cell_type": "code",
   "execution_count": 1,
   "metadata": {},
   "outputs": [
    {
     "name": "stdout",
     "output_type": "stream",
     "text": [
      "200\n",
      "Maior valor:  45\n",
      "Menor valor:  1\n",
      "Soma:  108\n",
      "Arredondamento:  2.35\n"
     ]
    }
   ],
   "source": [
    "#funções internas\n",
    "print(abs(-200))\n",
    "lst = [1,2,30,30,45]\n",
    "print(\"Maior valor: \", max(lst))\n",
    "print(\"Menor valor: \", min(lst))\n",
    "print(\"Soma: \", sum(lst))\n",
    "print(\"Arredondamento: \", round(2.34567,2))"
   ]
  },
  {
   "cell_type": "code",
   "execution_count": 2,
   "metadata": {},
   "outputs": [
    {
     "name": "stdout",
     "output_type": "stream",
     "text": [
      "Média:  21.6\n",
      "Mediana:  30\n",
      "Moda:  30\n"
     ]
    }
   ],
   "source": [
    "#statistica\n",
    "from statistics import *\n",
    "print(\"Média: \", mean(lst))\n",
    "print(\"Mediana: \", median(lst))\n",
    "print(\"Moda: \", mode(lst))"
   ]
  },
  {
   "cell_type": "code",
   "execution_count": 3,
   "metadata": {},
   "outputs": [
    {
     "name": "stdout",
     "output_type": "stream",
     "text": [
      "Desvio padrão:  19.346834366376324\n"
     ]
    }
   ],
   "source": [
    "#desvio padrão da amostra\n",
    "print(\"Desvio padrão: \", stdev(lst))"
   ]
  },
  {
   "cell_type": "code",
   "execution_count": 4,
   "metadata": {},
   "outputs": [
    {
     "name": "stdout",
     "output_type": "stream",
     "text": [
      "Variância:  374.3\n"
     ]
    }
   ],
   "source": [
    "#variancia da amostra\n",
    "print(\"Variância: \", variance(lst))"
   ]
  },
  {
   "cell_type": "code",
   "execution_count": 5,
   "metadata": {},
   "outputs": [
    {
     "name": "stdout",
     "output_type": "stream",
     "text": [
      "<class 'numpy.ndarray'>\n",
      "[[0.33749576 0.53714329 0.94768245 0.51647997 0.50712974 0.39985795\n",
      "  0.52223208 0.6440718 ]\n",
      " [0.63919611 0.9048338  0.66951142 0.79076432 0.17092189 0.82354221\n",
      "  0.34836561 0.19685283]\n",
      " [0.99805577 0.21878846 0.48164271 0.61712644 0.64605941 0.44870443\n",
      "  0.12925282 0.02778589]\n",
      " [0.76429847 0.62080854 0.47712207 0.68709916 0.75872881 0.70340853\n",
      "  0.68681674 0.58965013]\n",
      " [0.04511251 0.60727979 0.8258341  0.01603896 0.52228542 0.44864023\n",
      "  0.8691094  0.97293144]\n",
      " [0.0234535  0.46303586 0.96600037 0.70939249 0.77671344 0.54996085\n",
      "  0.44411076 0.8109323 ]\n",
      " [0.64773584 0.84247367 0.38544011 0.22443476 0.62826718 0.33440563\n",
      "  0.20720007 0.20688991]\n",
      " [0.23973775 0.47525253 0.36735881 0.6140462  0.78899927 0.91405559\n",
      "  0.34375678 0.28323775]]\n"
     ]
    }
   ],
   "source": [
    "from numpy import *\n",
    "a = random.random((8,8))\n",
    "print(type(a))\n",
    "print(a)"
   ]
  }
 ],
 "metadata": {
  "kernelspec": {
   "display_name": "Python 3.9.9 64-bit",
   "language": "python",
   "name": "python3"
  },
  "language_info": {
   "codemirror_mode": {
    "name": "ipython",
    "version": 3
   },
   "file_extension": ".py",
   "mimetype": "text/x-python",
   "name": "python",
   "nbconvert_exporter": "python",
   "pygments_lexer": "ipython3",
   "version": "3.9.9"
  },
  "vscode": {
   "interpreter": {
    "hash": "87c45c9fa338d254c7af859b02d158e07135bc8a08c08316825ce6bf06b146fb"
   }
  }
 },
 "nbformat": 4,
 "nbformat_minor": 4
}
